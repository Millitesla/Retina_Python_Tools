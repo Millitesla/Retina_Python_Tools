{
 "cells": [
  {
   "cell_type": "markdown",
   "metadata": {},
   "source": [
    "# This Notebook merges AllDataRetina, Sholl Analysis and Stratification analysis "
   ]
  },
  {
   "cell_type": "code",
   "execution_count": 1,
   "metadata": {
    "collapsed": true
   },
   "outputs": [],
   "source": [
    "import pandas as pd\n",
    "import os\n",
    "import glob\n",
    "import numpy as np\n",
    "from __future__ import print_function\n",
    "import pylab as p\n",
    "from scipy import misc\n",
    "import sys\n",
    "from neurom.core.dataformat import COLS\n",
    "import neurom as nm\n",
    "from neurom import geom\n",
    "from neurom.fst import sectionfunc\n",
    "from neurom.core import Tree\n",
    "from neurom.core.types import tree_type_checker, NEURITES\n",
    "from neurom import morphmath as mm\n",
    "from neurom import viewer\n",
    "import matplotlib.pyplot as plt\n",
    "import seaborn as sns\n",
    "\n",
    "sys.setrecursionlimit(100000)\n",
    "\n",
    "import pandas as pd\n",
    "from sklearn.metrics import accuracy_score"
   ]
  },
  {
   "cell_type": "code",
   "execution_count": 2,
   "metadata": {
    "collapsed": false
   },
   "outputs": [],
   "source": [
    "os.chdir('/Users/ruff/OneDrive/Retina Python Tools/DataV2')"
   ]
  },
  {
   "cell_type": "markdown",
   "metadata": {},
   "source": [
    "### Open experiment Dataframe"
   ]
  },
  {
   "cell_type": "code",
   "execution_count": 3,
   "metadata": {
    "collapsed": false
   },
   "outputs": [
    {
     "name": "stdout",
     "output_type": "stream",
     "text": [
      "(140, 17)\n"
     ]
    },
    {
     "data": {
      "text/html": [
       "<div>\n",
       "<table border=\"1\" class=\"dataframe\">\n",
       "  <thead>\n",
       "    <tr style=\"text-align: right;\">\n",
       "      <th></th>\n",
       "      <th>Year</th>\n",
       "      <th>Experiment</th>\n",
       "      <th>Sub_Type</th>\n",
       "      <th>Layer</th>\n",
       "      <th>Age</th>\n",
       "      <th>Tamoxifen_ug/g</th>\n",
       "      <th>Genotype</th>\n",
       "      <th>Clone</th>\n",
       "      <th>Typename</th>\n",
       "      <th>Area</th>\n",
       "      <th>Dye</th>\n",
       "      <th>SQL_ID1</th>\n",
       "      <th>SQL_ID2</th>\n",
       "      <th>SQL_ID3</th>\n",
       "      <th>SQL_ID4</th>\n",
       "      <th>SQL_ID5</th>\n",
       "      <th>Filename1</th>\n",
       "    </tr>\n",
       "  </thead>\n",
       "  <tbody>\n",
       "    <tr>\n",
       "      <th>0</th>\n",
       "      <td>2017</td>\n",
       "      <td>14</td>\n",
       "      <td>RGC</td>\n",
       "      <td>GCL</td>\n",
       "      <td>86</td>\n",
       "      <td>20</td>\n",
       "      <td>FLRT3-Cre_Tom+/-</td>\n",
       "      <td>1D5</td>\n",
       "      <td>FLRT3_RBPMS</td>\n",
       "      <td>190.0</td>\n",
       "      <td>Lucifer_Yellow</td>\n",
       "      <td>exp14_17 Pos_R1_1</td>\n",
       "      <td>NaN</td>\n",
       "      <td>Strat</td>\n",
       "      <td>-exported-000edit.swc</td>\n",
       "      <td>rendered Paths</td>\n",
       "      <td>exp14_17 Pos_R1_1-exported-000edit.swc</td>\n",
       "    </tr>\n",
       "  </tbody>\n",
       "</table>\n",
       "</div>"
      ],
      "text/plain": [
       "   Year  Experiment Sub_Type Layer  Age  Tamoxifen_ug/g          Genotype  \\\n",
       "0  2017          14      RGC   GCL   86              20  FLRT3-Cre_Tom+/-   \n",
       "\n",
       "  Clone     Typename   Area             Dye            SQL_ID1  SQL_ID2  \\\n",
       "0   1D5  FLRT3_RBPMS  190.0  Lucifer_Yellow  exp14_17 Pos_R1_1      NaN   \n",
       "\n",
       "  SQL_ID3                SQL_ID4         SQL_ID5  \\\n",
       "0   Strat  -exported-000edit.swc  rendered Paths   \n",
       "\n",
       "                                Filename1  \n",
       "0  exp14_17 Pos_R1_1-exported-000edit.swc  "
      ]
     },
     "execution_count": 3,
     "metadata": {},
     "output_type": "execute_result"
    }
   ],
   "source": [
    "data=pd.read_excel(os.curdir + '/Alldata_Project_Retina.xlsx', sheetname='CellMorphology')\n",
    "# Filter Data to experiments performed in year 2017\n",
    "data=data[data['Year'].isin([2017])]\n",
    "data['Filename1'] = data['SQL_ID1'] + data['SQL_ID4']\n",
    "print(data.shape)\n",
    "data.head(1)"
   ]
  },
  {
   "cell_type": "markdown",
   "metadata": {},
   "source": [
    "### Open Sholl Analysis Dataframe\n",
    "In Sholl analysis circles of increasing radius (10µm) are drawn around the center of a neuron. Then the\n",
    "number of intersections of the dendritic tree with each circle is counted for each radius. "
   ]
  },
  {
   "cell_type": "code",
   "execution_count": 4,
   "metadata": {
    "collapsed": false,
    "scrolled": true
   },
   "outputs": [
    {
     "name": "stdout",
     "output_type": "stream",
     "text": [
      "(137, 30)\n"
     ]
    },
    {
     "data": {
      "text/html": [
       "<div>\n",
       "<table border=\"1\" class=\"dataframe\">\n",
       "  <thead>\n",
       "    <tr style=\"text-align: right;\">\n",
       "      <th></th>\n",
       "      <th>Radius</th>\n",
       "      <th>sholl0</th>\n",
       "      <th>sholl10</th>\n",
       "      <th>sholl20</th>\n",
       "      <th>sholl30</th>\n",
       "      <th>sholl40</th>\n",
       "      <th>sholl50</th>\n",
       "      <th>sholl60</th>\n",
       "      <th>sholl70</th>\n",
       "      <th>sholl80</th>\n",
       "      <th>...</th>\n",
       "      <th>sholl190</th>\n",
       "      <th>sholl200</th>\n",
       "      <th>sholl210</th>\n",
       "      <th>sholl220</th>\n",
       "      <th>sholl230</th>\n",
       "      <th>sholl240</th>\n",
       "      <th>sholl250</th>\n",
       "      <th>sholl260</th>\n",
       "      <th>sholl270</th>\n",
       "      <th>Filename</th>\n",
       "    </tr>\n",
       "  </thead>\n",
       "  <tbody>\n",
       "    <tr>\n",
       "      <th>0</th>\n",
       "      <td>exp27_17 Pos_R1_14-exported-000edit.swc</td>\n",
       "      <td>1</td>\n",
       "      <td>4</td>\n",
       "      <td>6</td>\n",
       "      <td>14</td>\n",
       "      <td>35</td>\n",
       "      <td>31</td>\n",
       "      <td>34.0</td>\n",
       "      <td>18.0</td>\n",
       "      <td>13.0</td>\n",
       "      <td>...</td>\n",
       "      <td>NaN</td>\n",
       "      <td>NaN</td>\n",
       "      <td>NaN</td>\n",
       "      <td>NaN</td>\n",
       "      <td>NaN</td>\n",
       "      <td>NaN</td>\n",
       "      <td>NaN</td>\n",
       "      <td>NaN</td>\n",
       "      <td>NaN</td>\n",
       "      <td>exp27_17 Pos_R1_14-exported-000edit.swc</td>\n",
       "    </tr>\n",
       "  </tbody>\n",
       "</table>\n",
       "<p>1 rows × 30 columns</p>\n",
       "</div>"
      ],
      "text/plain": [
       "                                    Radius   sholl0   sholl10   sholl20  \\\n",
       "0  exp27_17 Pos_R1_14-exported-000edit.swc        1         4         6   \n",
       "\n",
       "    sholl30   sholl40   sholl50   sholl60   sholl70   sholl80  \\\n",
       "0        14        35        31      34.0      18.0      13.0   \n",
       "\n",
       "                    ...                      sholl190   sholl200   sholl210  \\\n",
       "0                   ...                           NaN        NaN        NaN   \n",
       "\n",
       "    sholl220   sholl230   sholl240   sholl250   sholl260   sholl270  \\\n",
       "0        NaN        NaN        NaN        NaN        NaN        NaN   \n",
       "\n",
       "                                  Filename  \n",
       "0  exp27_17 Pos_R1_14-exported-000edit.swc  \n",
       "\n",
       "[1 rows x 30 columns]"
      ]
     },
     "execution_count": 4,
     "metadata": {},
     "output_type": "execute_result"
    }
   ],
   "source": [
    "sholl = pd.read_csv(os.curdir + '/InData/Sholl/Intersections all neurons.csv')\n",
    "sholl['Radius'] = sholl['Radius'] + '.swc'\n",
    "sholl['Filename'] = sholl['Radius']\n",
    "print(sholl.shape)\n",
    "sholl.head(1)"
   ]
  },
  {
   "cell_type": "markdown",
   "metadata": {},
   "source": [
    "### Merge experiment and sholl analysis dataframe based on Filename1 column"
   ]
  },
  {
   "cell_type": "code",
   "execution_count": 5,
   "metadata": {
    "collapsed": false
   },
   "outputs": [
    {
     "data": {
      "text/html": [
       "<div>\n",
       "<table border=\"1\" class=\"dataframe\">\n",
       "  <thead>\n",
       "    <tr style=\"text-align: right;\">\n",
       "      <th></th>\n",
       "      <th>Year</th>\n",
       "      <th>Experiment</th>\n",
       "      <th>Sub_Type</th>\n",
       "      <th>Layer</th>\n",
       "      <th>Age</th>\n",
       "      <th>Tamoxifen_ug/g</th>\n",
       "      <th>Genotype</th>\n",
       "      <th>Clone</th>\n",
       "      <th>Typename</th>\n",
       "      <th>Area</th>\n",
       "      <th>...</th>\n",
       "      <th>sholl190</th>\n",
       "      <th>sholl200</th>\n",
       "      <th>sholl210</th>\n",
       "      <th>sholl220</th>\n",
       "      <th>sholl230</th>\n",
       "      <th>sholl240</th>\n",
       "      <th>sholl250</th>\n",
       "      <th>sholl260</th>\n",
       "      <th>sholl270</th>\n",
       "      <th>Filename</th>\n",
       "    </tr>\n",
       "  </thead>\n",
       "  <tbody>\n",
       "    <tr>\n",
       "      <th>0</th>\n",
       "      <td>2017</td>\n",
       "      <td>14</td>\n",
       "      <td>RGC</td>\n",
       "      <td>GCL</td>\n",
       "      <td>86</td>\n",
       "      <td>20</td>\n",
       "      <td>FLRT3-Cre_Tom+/-</td>\n",
       "      <td>1D5</td>\n",
       "      <td>FLRT3_RBPMS</td>\n",
       "      <td>190.0</td>\n",
       "      <td>...</td>\n",
       "      <td>NaN</td>\n",
       "      <td>NaN</td>\n",
       "      <td>NaN</td>\n",
       "      <td>NaN</td>\n",
       "      <td>NaN</td>\n",
       "      <td>NaN</td>\n",
       "      <td>NaN</td>\n",
       "      <td>NaN</td>\n",
       "      <td>NaN</td>\n",
       "      <td>exp14_17 Pos_R1_1-exported-000edit.swc</td>\n",
       "    </tr>\n",
       "  </tbody>\n",
       "</table>\n",
       "<p>1 rows × 47 columns</p>\n",
       "</div>"
      ],
      "text/plain": [
       "   Year  Experiment Sub_Type Layer  Age  Tamoxifen_ug/g          Genotype  \\\n",
       "0  2017          14      RGC   GCL   86              20  FLRT3-Cre_Tom+/-   \n",
       "\n",
       "  Clone     Typename   Area                   ...                    sholl190  \\\n",
       "0   1D5  FLRT3_RBPMS  190.0                   ...                         NaN   \n",
       "\n",
       "   sholl200   sholl210  sholl220  sholl230  sholl240  sholl250  sholl260  \\\n",
       "0       NaN        NaN       NaN       NaN       NaN       NaN       NaN   \n",
       "\n",
       "    sholl270                                Filename  \n",
       "0        NaN  exp14_17 Pos_R1_1-exported-000edit.swc  \n",
       "\n",
       "[1 rows x 47 columns]"
      ]
     },
     "execution_count": 5,
     "metadata": {},
     "output_type": "execute_result"
    }
   ],
   "source": [
    "df_temp = pd.merge(data,sholl, how='inner', left_on = 'Filename1', right_on = 'Radius')\n",
    "df_temp.head(1)"
   ]
  },
  {
   "cell_type": "markdown",
   "metadata": {},
   "source": [
    "### Generating the stratification dataframe containing the stratification pattern of each cell within the inner plexiform layer"
   ]
  },
  {
   "cell_type": "code",
   "execution_count": 6,
   "metadata": {
    "collapsed": true
   },
   "outputs": [],
   "source": [
    "# Function to take series of binary images with the stratification pattern in the inner plexiform layer of each cell\n",
    "\n",
    "def sec_len(sec):\n",
    "    '''Return the length of a section'''\n",
    "    return nm.morphmath.section_length(sec.points)\n",
    "\n",
    "def StratifyAnalysis (data):\n",
    "    '''\n",
    "    Takes Series of images with stratification pattern (binary) and Sums each row, bins into 10, Sums with all other images \n",
    "    of same series (=same cell) and plots an image using heatmap\n",
    "    '''\n",
    "    \n",
    "    binnum = 10\n",
    "    allallstratify = pd.DataFrame()\n",
    "    for cell in range(len(data)):\n",
    "        \n",
    "        images = glob.glob(os.curdir + '/InFigures/' + '*' + data['SQL_ID1'][cell] + ' ' + '*')\n",
    "        allstratify=pd.DataFrame(columns={'stratify'}, index=np.linspace(0,binnum-1,binnum)).fillna(0)\n",
    "        for image in images:\n",
    "            stratify = pd.DataFrame()\n",
    "            depth = pd.DataFrame()\n",
    "            stratify = misc.imread(image, flatten = True)\n",
    "            stratify = pd.DataFrame(np.sum(stratify, axis=1)).iloc[::-1]\n",
    "            stratify = stratify.reset_index(drop=True)\n",
    "            stratify = stratify.rename(columns = {0:'stratify'})\n",
    "            depth = pd.DataFrame(np.linspace(0, 1, len(stratify)))\n",
    "            depth = depth.rename(columns={0:'depth'})\n",
    "            stratify['depth']=depth.depth # add depth column to stratify\n",
    "            stratify.depth=stratify.depth*binnum\n",
    "            stratify.depth = stratify.depth.astype(int) #convert to integer for subsequent sumation\n",
    "            stratify['depth'].replace(to_replace=binnum, value=binnum-1, inplace=True, method='pad', axis=None)\n",
    "            stratify = pd.pivot_table(data=stratify, columns=stratify.depth , aggfunc='sum').transpose()\n",
    "            allstratify['stratify'] = stratify.stratify + allstratify.stratify\n",
    "        allstratify = allstratify.stratify/allstratify.stratify.max()#normalize\n",
    "        allstratify = pd.DataFrame(allstratify) #convert to dataframe\n",
    "        allstratify = allstratify.transpose()\n",
    "        #allstratify['SQL_ID1'] = image[12:30]\n",
    "        allallstratify = pd.concat([allallstratify, allstratify])\n",
    "    #allallstratify = allallstratify.rename(columns = {0.0:'Layer1',1.0:'Layer2',2.0:'Layer3',3.0:'Layer4',4.0:'Layer5'})\n",
    "    allallstratify = allallstratify.rename(columns = {0.0:'Layer1',1.0:'Layer2',2.0:'Layer3',3.0:'Layer4',4.0:'Layer5',5.0:'Layer6',6.0:'Layer7',7.0:'Layer8',8.0:'Layer9',9.0:'Layer10'})#Use with 10 layers\n",
    "    allallstratify = allallstratify.reset_index(drop=True) \n",
    "    \n",
    "    Final_df = pd.DataFrame()                    #Make empty DataFrame for Principle component analysis\n",
    "    Final_df['SQL_ID1'] = data.loc[:,'SQL_ID1']  #Add Filename SQL_ID in first column\n",
    "    Final_df['SQL_ID4'] = data.loc[:,'SQL_ID4']\n",
    "    Final_df = pd.concat([Final_df, allallstratify], axis=1)#Add Stratification\n",
    "    \n",
    "    # Neuron Morphology analysis starts here:\n",
    "    Tracefiles = glob.glob(os.curdir + '/InData/Morphology/*edit.swc') #load all SWC morphology files\n",
    "    for i in range(len(Final_df)):\n",
    "        '''check if swc morphology file exists and insert stratification data'''\n",
    "        Sql1 = Final_df.loc[Final_df.index[i],'SQL_ID1']\n",
    "        Sql4 = Final_df.loc[Final_df.index[i],'SQL_ID4']\n",
    "        File = os.curdir + '/InData/Morphology/' +Sql1 + Sql4\n",
    "        if File in Tracefiles: #Wenn swc File exisitiert\n",
    "            nrn = nm.load_neuron(File)         \n",
    "            Final_df.loc[Final_df.index[i],'TotalNeuriteLength']=sum(sec_len(s) for s in nm.iter_sections(nrn))\n",
    "            #PcaData.loc[PcaData.index[i],'NeuriteSurfaceArea']=sum(nm.morphmath.segment_area(s) for s in nm.iter_segments(nrn))  \n",
    "            Final_df.loc[Final_df.index[i],'BifurcationPoints']=sum(1 for _ in nm.iter_sections(nrn, iterator_type=Tree.ibifurcation_point))\n",
    "            Final_df.loc[Final_df.index[i],'Terminations']=nm.get('number_of_terminations', nrn)\n",
    "             \n",
    "    return(Final_df)\n",
    "\n"
   ]
  },
  {
   "cell_type": "code",
   "execution_count": 7,
   "metadata": {
    "collapsed": false
   },
   "outputs": [],
   "source": [
    "# Calling Stratification function\n",
    "stratification = StratifyAnalysis (data)"
   ]
  },
  {
   "cell_type": "code",
   "execution_count": 8,
   "metadata": {
    "collapsed": false
   },
   "outputs": [],
   "source": [
    "stratification['Filename'] = stratification['SQL_ID1'] + stratification['SQL_ID4']"
   ]
  },
  {
   "cell_type": "markdown",
   "metadata": {},
   "source": [
    "### Merge df_temp with Stratification dataframe"
   ]
  },
  {
   "cell_type": "code",
   "execution_count": 9,
   "metadata": {
    "collapsed": false,
    "scrolled": true
   },
   "outputs": [],
   "source": [
    "df = pd.merge(df_temp,stratification, left_on='Filename', right_on='Filename')\n",
    "backup = df"
   ]
  },
  {
   "cell_type": "markdown",
   "metadata": {},
   "source": [
    "## Exploring"
   ]
  },
  {
   "cell_type": "markdown",
   "metadata": {},
   "source": [
    "#### Do all animals analyzed have the same genotype?"
   ]
  },
  {
   "cell_type": "code",
   "execution_count": 10,
   "metadata": {
    "collapsed": false
   },
   "outputs": [
    {
     "name": "stdout",
     "output_type": "stream",
     "text": [
      "['FLRT3-Cre_Tom+/-']\n",
      "1\n"
     ]
    }
   ],
   "source": [
    "Genotypes = df.Genotype.unique().tolist()\n",
    "print(Genotypes)\n",
    "print(len(Genotypes))"
   ]
  },
  {
   "cell_type": "markdown",
   "metadata": {},
   "source": [
    "--> All animals have the same Genotype "
   ]
  },
  {
   "cell_type": "markdown",
   "metadata": {},
   "source": [
    "#### What cell types does the dataset contain?"
   ]
  },
  {
   "cell_type": "code",
   "execution_count": 11,
   "metadata": {
    "collapsed": false
   },
   "outputs": [
    {
     "name": "stdout",
     "output_type": "stream",
     "text": [
      "['RGC', 'Amacrine', 'RGC?', 'Amacrine?', 'Unknown']\n",
      "The dataset contains 5 Cell Types\n"
     ]
    }
   ],
   "source": [
    "Celltypes = df.Sub_Type.unique().tolist()\n",
    "print(Celltypes)\n",
    "print('The dataset contains ' + str(len(Celltypes)) + ' Cell Types')"
   ]
  },
  {
   "cell_type": "markdown",
   "metadata": {},
   "source": [
    "#### How many cells (Sub_Type) in the dataset are RGCs or Amacrines or Unknown?"
   ]
  },
  {
   "cell_type": "code",
   "execution_count": 12,
   "metadata": {
    "collapsed": false,
    "scrolled": true
   },
   "outputs": [
    {
     "name": "stdout",
     "output_type": "stream",
     "text": [
      "Total number of cells = 135\n",
      "Number of RGCs = 89\n",
      "Number of Amacrines = 27\n",
      "Number of Unknown = 19\n"
     ]
    }
   ],
   "source": [
    "RGCs = df[df['Sub_Type'].isin(['RGC'])]\n",
    "Amacrines = df[df['Sub_Type'].isin(['Amacrine'])]\n",
    "Unknown = df[df['Sub_Type'].isin(['Unknown', 'Amacrine?', 'RGC?'])]\n",
    "\n",
    "print('Total number of cells = ' + str(len(df)))\n",
    "print('Number of RGCs = ' + str(len(RGCs)))\n",
    "print('Number of Amacrines = ' + str(len(Amacrines)))\n",
    "print('Number of Unknown = ' + str(len(Unknown)))"
   ]
  },
  {
   "cell_type": "markdown",
   "metadata": {},
   "source": [
    "## Clean and preprocess merged dataframe"
   ]
  },
  {
   "cell_type": "markdown",
   "metadata": {},
   "source": [
    "#### Remove all samples that contain an Unknown Cell Identity in the Sub_Type column"
   ]
  },
  {
   "cell_type": "code",
   "execution_count": 13,
   "metadata": {
    "collapsed": false
   },
   "outputs": [
    {
     "name": "stdout",
     "output_type": "stream",
     "text": [
      "# of rows removed: 19\n"
     ]
    }
   ],
   "source": [
    "Mask_Unknown=df['Sub_Type'] != 'Unknown'\n",
    "Mask_Amacrine_Unknown=df['Sub_Type'] != 'Amacrine?'\n",
    "Mask_RGC_Unknown=df['Sub_Type'] != 'RGC?'\n",
    "\n",
    "Mask = Mask_Unknown & Mask_Amacrine_Unknown & Mask_RGC_Unknown\n",
    "\n",
    "df = df[Mask]\n",
    "print('# of rows removed: ' + str(backup.shape[0] - df.shape[0]))"
   ]
  },
  {
   "cell_type": "markdown",
   "metadata": {},
   "source": [
    "#### Encode neuron identity into binary features: RGC=1, Amacrine=0"
   ]
  },
  {
   "cell_type": "code",
   "execution_count": 14,
   "metadata": {
    "collapsed": false
   },
   "outputs": [
    {
     "name": "stderr",
     "output_type": "stream",
     "text": [
      "/Users/ruff/anaconda/lib/python3.6/site-packages/ipykernel/__main__.py:1: SettingWithCopyWarning: \n",
      "A value is trying to be set on a copy of a slice from a DataFrame.\n",
      "Try using .loc[row_indexer,col_indexer] = value instead\n",
      "\n",
      "See the caveats in the documentation: http://pandas.pydata.org/pandas-docs/stable/indexing.html#indexing-view-versus-copy\n",
      "  if __name__ == '__main__':\n"
     ]
    },
    {
     "data": {
      "text/html": [
       "<div>\n",
       "<table border=\"1\" class=\"dataframe\">\n",
       "  <thead>\n",
       "    <tr style=\"text-align: right;\">\n",
       "      <th></th>\n",
       "      <th>Year</th>\n",
       "      <th>Experiment</th>\n",
       "      <th>Sub_Type</th>\n",
       "      <th>Layer</th>\n",
       "      <th>Age</th>\n",
       "      <th>Tamoxifen_ug/g</th>\n",
       "      <th>Genotype</th>\n",
       "      <th>Clone</th>\n",
       "      <th>Typename</th>\n",
       "      <th>Area</th>\n",
       "      <th>...</th>\n",
       "      <th>Layer5</th>\n",
       "      <th>Layer6</th>\n",
       "      <th>Layer7</th>\n",
       "      <th>Layer8</th>\n",
       "      <th>Layer9</th>\n",
       "      <th>Layer10</th>\n",
       "      <th>TotalNeuriteLength</th>\n",
       "      <th>BifurcationPoints</th>\n",
       "      <th>Terminations</th>\n",
       "      <th>Identity</th>\n",
       "    </tr>\n",
       "  </thead>\n",
       "  <tbody>\n",
       "    <tr>\n",
       "      <th>0</th>\n",
       "      <td>2017</td>\n",
       "      <td>14</td>\n",
       "      <td>RGC</td>\n",
       "      <td>GCL</td>\n",
       "      <td>86</td>\n",
       "      <td>20</td>\n",
       "      <td>FLRT3-Cre_Tom+/-</td>\n",
       "      <td>1D5</td>\n",
       "      <td>FLRT3_RBPMS</td>\n",
       "      <td>190.0</td>\n",
       "      <td>...</td>\n",
       "      <td>0.01392</td>\n",
       "      <td>0.152194</td>\n",
       "      <td>1.0</td>\n",
       "      <td>0.466804</td>\n",
       "      <td>0.021552</td>\n",
       "      <td>0.0</td>\n",
       "      <td>2071.299171</td>\n",
       "      <td>38.0</td>\n",
       "      <td>46.0</td>\n",
       "      <td>1</td>\n",
       "    </tr>\n",
       "  </tbody>\n",
       "</table>\n",
       "<p>1 rows × 63 columns</p>\n",
       "</div>"
      ],
      "text/plain": [
       "   Year  Experiment Sub_Type Layer  Age  Tamoxifen_ug/g          Genotype  \\\n",
       "0  2017          14      RGC   GCL   86              20  FLRT3-Cre_Tom+/-   \n",
       "\n",
       "  Clone     Typename   Area    ...      Layer5    Layer6  Layer7    Layer8  \\\n",
       "0   1D5  FLRT3_RBPMS  190.0    ...     0.01392  0.152194     1.0  0.466804   \n",
       "\n",
       "     Layer9 Layer10 TotalNeuriteLength BifurcationPoints  Terminations  \\\n",
       "0  0.021552     0.0        2071.299171              38.0          46.0   \n",
       "\n",
       "   Identity  \n",
       "0         1  \n",
       "\n",
       "[1 rows x 63 columns]"
      ]
     },
     "execution_count": 14,
     "metadata": {},
     "output_type": "execute_result"
    }
   ],
   "source": [
    "df['Identity'] = (df['Sub_Type'] == 'RGC')*1\n",
    "df.head(1)"
   ]
  },
  {
   "cell_type": "markdown",
   "metadata": {},
   "source": [
    "#### Removing columns that are not needed for neuronal classification (also all containing a string) and replace all NaN of the sholl columns by 0"
   ]
  },
  {
   "cell_type": "code",
   "execution_count": 15,
   "metadata": {
    "collapsed": false
   },
   "outputs": [],
   "source": [
    "df = df.drop(['Sub_Type', 'Year','Experiment','Clone','Layer','Tamoxifen_ug/g','Dye','Typename','SQL_ID1_x','SQL_ID2','SQL_ID3','SQL_ID4_x','SQL_ID5','Radius','SQL_ID1_y','SQL_ID4_y', 'Filename','Genotype', 'Filename1'], axis=1)"
   ]
  },
  {
   "cell_type": "code",
   "execution_count": 16,
   "metadata": {
    "collapsed": false
   },
   "outputs": [
    {
     "data": {
      "text/plain": [
       "Index(['Age', 'Area', ' sholl0', ' sholl10', ' sholl20', ' sholl30',\n",
       "       ' sholl40', ' sholl50', ' sholl60', ' sholl70', ' sholl80', ' sholl90',\n",
       "       ' sholl100', ' sholl110', ' sholl120', ' sholl130', ' sholl140',\n",
       "       ' sholl150', ' sholl160', ' sholl170', ' sholl180', ' sholl190',\n",
       "       ' sholl200', ' sholl210', ' sholl220', ' sholl230', ' sholl240',\n",
       "       ' sholl250', ' sholl260', ' sholl270', 'Layer1', 'Layer2', 'Layer3',\n",
       "       'Layer4', 'Layer5', 'Layer6', 'Layer7', 'Layer8', 'Layer9', 'Layer10',\n",
       "       'TotalNeuriteLength', 'BifurcationPoints', 'Terminations', 'Identity'],\n",
       "      dtype='object')"
      ]
     },
     "execution_count": 16,
     "metadata": {},
     "output_type": "execute_result"
    }
   ],
   "source": [
    "df.fillna(value=0, inplace=True)\n",
    "df.columns"
   ]
  },
  {
   "cell_type": "markdown",
   "metadata": {},
   "source": [
    "## Exploring II"
   ]
  },
  {
   "cell_type": "markdown",
   "metadata": {},
   "source": [
    "#### What is the frequency distribution of soma sizes?"
   ]
  },
  {
   "cell_type": "code",
   "execution_count": 17,
   "metadata": {
    "collapsed": false,
    "scrolled": false
   },
   "outputs": [
    {
     "data": {
      "text/plain": [
       "<matplotlib.legend.Legend at 0x1125ceb00>"
      ]
     },
     "execution_count": 17,
     "metadata": {},
     "output_type": "execute_result"
    },
    {
     "data": {
      "image/png": "[encoded data removed]",
      "text/plain": [
       "<matplotlib.figure.Figure at 0x111dac908>"
      ]
     },
     "metadata": {},
     "output_type": "display_data"
    }
   ],
   "source": [
    "%matplotlib inline\n",
    "plt.figure(figsize=(7,5))\n",
    "plt.title('Frequency distribution of soma sizes', size=20)\n",
    "sns.distplot(RGCs.Area, color = 'r', bins=20,hist=True, label='RGC', kde=False)\n",
    "sns.distplot(Amacrines.Area,color = 'g', hist=True, label='Amacrine', kde=False)\n",
    "#sns.distplot(Unknown.Area,color = 'b', bins=20,hist=True, label='Unknown', kde=False)\n",
    "plt.xlabel('Soma size in µm', size=20)\n",
    "plt.ylabel('Number of cells', size=20)\n",
    "plt.xticks(size=15)\n",
    "plt.yticks(size=15)\n",
    "plt.legend()"
   ]
  },
  {
   "cell_type": "markdown",
   "metadata": {},
   "source": [
    "--> The soma sizes of RGCs are bigger than Amacrines"
   ]
  },
  {
   "cell_type": "markdown",
   "metadata": {},
   "source": [
    "#### What is the frequency distribution of the total neurite lengths?"
   ]
  },
  {
   "cell_type": "code",
   "execution_count": 18,
   "metadata": {
    "collapsed": false
   },
   "outputs": [
    {
     "data": {
      "text/plain": [
       "<matplotlib.legend.Legend at 0x1115b1c88>"
      ]
     },
     "execution_count": 18,
     "metadata": {},
     "output_type": "execute_result"
    },
    {
     "data": {
      "image/png": "[encoded data removed]",
      "text/plain": [
       "<matplotlib.figure.Figure at 0x1125ce390>"
      ]
     },
     "metadata": {},
     "output_type": "display_data"
    }
   ],
   "source": [
    "%matplotlib inline\n",
    "plt.figure(figsize=(7,5))\n",
    "plt.title('Frequency distribution of total neurite lengths', size=20)\n",
    "sns.distplot(RGCs.TotalNeuriteLength, color = 'r', bins=20, hist=True, label='RGC', kde=False)\n",
    "sns.distplot(Amacrines.TotalNeuriteLength, color = 'g', bins=20, hist=True, label='Amacrine', kde=False)\n",
    "\n",
    "plt.xlabel('Total Neurite Length in µm', size=20)\n",
    "plt.ylabel('Number of cells', size=20)\n",
    "plt.xticks(size=15)\n",
    "plt.yticks(size=15)\n",
    "plt.legend()"
   ]
  },
  {
   "cell_type": "markdown",
   "metadata": {},
   "source": [
    "--> No difference in the total neurite length between RGCs and Amacrines"
   ]
  },
  {
   "cell_type": "markdown",
   "metadata": {},
   "source": [
    "#### What is the frequency distribution of the total neurite lengths?"
   ]
  },
  {
   "cell_type": "code",
   "execution_count": 19,
   "metadata": {
    "collapsed": false
   },
   "outputs": [
    {
     "data": {
      "text/plain": [
       "<matplotlib.legend.Legend at 0x111d16470>"
      ]
     },
     "execution_count": 19,
     "metadata": {},
     "output_type": "execute_result"
    },
    {
     "data": {
      "image/png": "[encoded data removed]",
      "text/plain": [
       "<matplotlib.figure.Figure at 0x111d39ef0>"
      ]
     },
     "metadata": {},
     "output_type": "display_data"
    }
   ],
   "source": [
    "%matplotlib inline\n",
    "plt.figure(figsize=(7,5))\n",
    "plt.title('Frequency distribution of bifurcation points', size=20)\n",
    "sns.distplot(RGCs.BifurcationPoints, color = 'r', bins=20, hist=True, label='RGC', kde=False)\n",
    "sns.distplot(Amacrines.BifurcationPoints, color = 'g', bins=20, hist=True, label='Amacrine', kde=False)\n",
    "\n",
    "plt.xlabel('# of Bifurcation points', size=20)\n",
    "plt.ylabel('Number of cells', size=20)\n",
    "plt.xticks(size=15)\n",
    "plt.yticks(size=15)\n",
    "plt.legend()"
   ]
  },
  {
   "cell_type": "code",
   "execution_count": 20,
   "metadata": {
    "collapsed": false
   },
   "outputs": [
    {
     "data": {
      "text/plain": [
       "<matplotlib.legend.Legend at 0x111a72b70>"
      ]
     },
     "execution_count": 20,
     "metadata": {},
     "output_type": "execute_result"
    },
    {
     "data": {
      "image/png": "[encoded data removed]",
      "text/plain": [
       "<matplotlib.figure.Figure at 0x1115b1be0>"
      ]
     },
     "metadata": {},
     "output_type": "display_data"
    }
   ],
   "source": [
    "%matplotlib inline\n",
    "plt.figure(figsize=(7,5))\n",
    "plt.title('Frequency distribution of terminations', size=20)\n",
    "sns.distplot(RGCs.Terminations, color = 'r', bins=20, hist=True, label='RGC', kde=False)\n",
    "sns.distplot(Amacrines.Terminations, color = 'g', bins=20, hist=True, label='Amacrine', kde=False)\n",
    "\n",
    "plt.xlabel('# of terminations', size=20)\n",
    "plt.ylabel('Number of cells', size=20)\n",
    "plt.xticks(size=15)\n",
    "plt.yticks(size=15)\n",
    "plt.legend()"
   ]
  },
  {
   "cell_type": "markdown",
   "metadata": {},
   "source": [
    "--> It seems that RGCs can have a more complex morphology with more Bifurcations and number of terminations compared to Amacrine cells despite having the same total neurite length"
   ]
  },
  {
   "cell_type": "markdown",
   "metadata": {},
   "source": [
    "## Preparing"
   ]
  },
  {
   "cell_type": "markdown",
   "metadata": {},
   "source": [
    "## 1. Which supervised learning algorithm is best suited to predict the cell identity (RGC vs Amacrine) based on morphological criteria: Kernel SVM, Decision Tree classification or Neural network?"
   ]
  },
  {
   "cell_type": "code",
   "execution_count": 21,
   "metadata": {
    "collapsed": false
   },
   "outputs": [],
   "source": [
    "from sklearn.metrics import accuracy_score\n",
    "from sklearn.model_selection import train_test_split\n",
    "from sklearn.tree import DecisionTreeClassifier\n",
    "from sklearn import svm\n",
    "from sklearn.neural_network import MLPClassifier"
   ]
  },
  {
   "cell_type": "markdown",
   "metadata": {},
   "source": [
    "### Store Target Identities in Y"
   ]
  },
  {
   "cell_type": "code",
   "execution_count": 22,
   "metadata": {
    "collapsed": true
   },
   "outputs": [],
   "source": [
    "Y = df[['Identity']].copy()"
   ]
  },
  {
   "cell_type": "markdown",
   "metadata": {},
   "source": [
    "### Use morphology features to predict if a cell is an RGC or Amacrine"
   ]
  },
  {
   "cell_type": "code",
   "execution_count": 23,
   "metadata": {
    "collapsed": false
   },
   "outputs": [
    {
     "data": {
      "text/plain": [
       "Index(['Age', 'Area', ' sholl0', ' sholl10', ' sholl20', ' sholl30',\n",
       "       ' sholl40', ' sholl50', ' sholl60', ' sholl70', ' sholl80', ' sholl90',\n",
       "       ' sholl100', ' sholl110', ' sholl120', ' sholl130', ' sholl140',\n",
       "       ' sholl150', ' sholl160', ' sholl170', ' sholl180', ' sholl190',\n",
       "       ' sholl200', ' sholl210', ' sholl220', ' sholl230', ' sholl240',\n",
       "       ' sholl250', ' sholl260', ' sholl270', 'Layer1', 'Layer2', 'Layer3',\n",
       "       'Layer4', 'Layer5', 'Layer6', 'Layer7', 'Layer8', 'Layer9', 'Layer10',\n",
       "       'TotalNeuriteLength', 'BifurcationPoints', 'Terminations', 'Identity'],\n",
       "      dtype='object')"
      ]
     },
     "execution_count": 23,
     "metadata": {},
     "output_type": "execute_result"
    }
   ],
   "source": [
    "df.columns"
   ]
  },
  {
   "cell_type": "code",
   "execution_count": 24,
   "metadata": {
    "collapsed": true
   },
   "outputs": [],
   "source": [
    "morphology_features = ['Area', ' sholl0', ' sholl10', ' sholl20', ' sholl30', ' sholl40',\n",
    "       ' sholl50', ' sholl60', ' sholl70', ' sholl80', ' sholl90', ' sholl100',\n",
    "       ' sholl110', ' sholl120', ' sholl130', ' sholl140', ' sholl150',\n",
    "       ' sholl160', ' sholl170', ' sholl180', ' sholl190', ' sholl200',\n",
    "       ' sholl210', ' sholl220', ' sholl230', ' sholl240', ' sholl250',\n",
    "       ' sholl260', ' sholl270', 'Layer1', 'Layer2', 'Layer3', 'Layer4',\n",
    "       'Layer5', 'Layer6', 'Layer7', 'Layer8', 'Layer9', 'Layer10',\n",
    "       'TotalNeuriteLength', 'BifurcationPoints', 'Terminations']"
   ]
  },
  {
   "cell_type": "code",
   "execution_count": 25,
   "metadata": {
    "collapsed": true
   },
   "outputs": [],
   "source": [
    "X = df[morphology_features].copy()"
   ]
  },
  {
   "cell_type": "markdown",
   "metadata": {},
   "source": [
    "### Perform Test and train split"
   ]
  },
  {
   "cell_type": "code",
   "execution_count": 26,
   "metadata": {
    "collapsed": false
   },
   "outputs": [
    {
     "name": "stdout",
     "output_type": "stream",
     "text": [
      "77\n",
      "39\n"
     ]
    }
   ],
   "source": [
    "X_train, X_test, Y_train, Y_test = train_test_split(X, Y, test_size=0.33, random_state=324)\n",
    "print(len(X_train))\n",
    "print(len(X_test))"
   ]
  },
  {
   "cell_type": "markdown",
   "metadata": {},
   "source": [
    "### Method 1: Fit on Train Set using DecisionTreeClassifier"
   ]
  },
  {
   "cell_type": "code",
   "execution_count": 27,
   "metadata": {
    "collapsed": false
   },
   "outputs": [
    {
     "data": {
      "text/plain": [
       "DecisionTreeClassifier(class_weight=None, criterion='gini', max_depth=None,\n",
       "            max_features=None, max_leaf_nodes=10, min_impurity_split=1e-07,\n",
       "            min_samples_leaf=1, min_samples_split=2,\n",
       "            min_weight_fraction_leaf=0.0, presort=False, random_state=0,\n",
       "            splitter='best')"
      ]
     },
     "execution_count": 27,
     "metadata": {},
     "output_type": "execute_result"
    }
   ],
   "source": [
    "DecisionTree = DecisionTreeClassifier(max_leaf_nodes=10, random_state=0)\n",
    "DecisionTree.fit(X_train, Y_train)"
   ]
  },
  {
   "cell_type": "markdown",
   "metadata": {},
   "source": [
    "### Method 2: Fit on Train Set using Support Vector machine"
   ]
  },
  {
   "cell_type": "code",
   "execution_count": 28,
   "metadata": {
    "collapsed": false
   },
   "outputs": [
    {
     "name": "stderr",
     "output_type": "stream",
     "text": [
      "/Users/ruff/anaconda/lib/python3.6/site-packages/sklearn/utils/validation.py:526: DataConversionWarning: A column-vector y was passed when a 1d array was expected. Please change the shape of y to (n_samples, ), for example using ravel().\n",
      "  y = column_or_1d(y, warn=True)\n"
     ]
    },
    {
     "data": {
      "text/plain": [
       "SVC(C=1.0, cache_size=200, class_weight=None, coef0=0.0,\n",
       "  decision_function_shape=None, degree=3, gamma='auto', kernel='rbf',\n",
       "  max_iter=-1, probability=False, random_state=None, shrinking=True,\n",
       "  tol=0.001, verbose=False)"
      ]
     },
     "execution_count": 28,
     "metadata": {},
     "output_type": "execute_result"
    }
   ],
   "source": [
    "Svm = svm.SVC()\n",
    "Svm.fit(X_train, Y_train)"
   ]
  },
  {
   "cell_type": "markdown",
   "metadata": {},
   "source": [
    "### Method 3: Fit on Train Set using Neural Networks"
   ]
  },
  {
   "cell_type": "code",
   "execution_count": 29,
   "metadata": {
    "collapsed": false
   },
   "outputs": [
    {
     "name": "stderr",
     "output_type": "stream",
     "text": [
      "/Users/ruff/anaconda/lib/python3.6/site-packages/sklearn/neural_network/multilayer_perceptron.py:904: DataConversionWarning: A column-vector y was passed when a 1d array was expected. Please change the shape of y to (n_samples, ), for example using ravel().\n",
      "  y = column_or_1d(y, warn=True)\n"
     ]
    },
    {
     "data": {
      "text/plain": [
       "MLPClassifier(activation='relu', alpha=1e-05, batch_size='auto', beta_1=0.9,\n",
       "       beta_2=0.999, early_stopping=False, epsilon=1e-08,\n",
       "       hidden_layer_sizes=(5, 2), learning_rate='constant',\n",
       "       learning_rate_init=0.001, max_iter=200, momentum=0.9,\n",
       "       nesterovs_momentum=True, power_t=0.5, random_state=1, shuffle=True,\n",
       "       solver='lbfgs', tol=0.0001, validation_fraction=0.1, verbose=False,\n",
       "       warm_start=False)"
      ]
     },
     "execution_count": 29,
     "metadata": {},
     "output_type": "execute_result"
    }
   ],
   "source": [
    "NeuralNetwork = MLPClassifier(solver='lbfgs', alpha=1e-5, hidden_layer_sizes=(5,2), random_state=1)\n",
    "NeuralNetwork.fit(X_train, Y_train)"
   ]
  },
  {
   "cell_type": "markdown",
   "metadata": {},
   "source": [
    "### Predict on Test Set using both methods"
   ]
  },
  {
   "cell_type": "code",
   "execution_count": 30,
   "metadata": {
    "collapsed": false
   },
   "outputs": [
    {
     "name": "stdout",
     "output_type": "stream",
     "text": [
      "Accuracy score for DecisionTree is: 0.948717948718\n",
      "Accuracy score for Svm is: 0.794871794872\n",
      "Accuracy score for NeuralNetwork is: 0.74358974359\n"
     ]
    }
   ],
   "source": [
    "DecisionTree_prediction = DecisionTree.predict(X_test)\n",
    "Svm_prediction = Svm.predict(X_test)\n",
    "NeuralNetwork_prediction = NeuralNetwork.predict(X_test)\n",
    "\n",
    "print('Accuracy score for DecisionTree is: ' + str(accuracy_score(y_true = Y_test, y_pred = DecisionTree_prediction)))\n",
    "print('Accuracy score for Svm is: ' + str(accuracy_score(y_true = Y_test, y_pred = Svm_prediction)))\n",
    "print('Accuracy score for NeuralNetwork is: ' + str(accuracy_score(y_true = Y_test, y_pred = NeuralNetwork_prediction)))"
   ]
  },
  {
   "cell_type": "code",
   "execution_count": 31,
   "metadata": {
    "collapsed": false
   },
   "outputs": [
    {
     "name": "stderr",
     "output_type": "stream",
     "text": [
      "/Users/ruff/anaconda/lib/python3.6/site-packages/ipykernel/__main__.py:1: SettingWithCopyWarning: \n",
      "A value is trying to be set on a copy of a slice from a DataFrame.\n",
      "Try using .loc[row_indexer,col_indexer] = value instead\n",
      "\n",
      "See the caveats in the documentation: http://pandas.pydata.org/pandas-docs/stable/indexing.html#indexing-view-versus-copy\n",
      "  if __name__ == '__main__':\n",
      "/Users/ruff/anaconda/lib/python3.6/site-packages/ipykernel/__main__.py:2: SettingWithCopyWarning: \n",
      "A value is trying to be set on a copy of a slice from a DataFrame.\n",
      "Try using .loc[row_indexer,col_indexer] = value instead\n",
      "\n",
      "See the caveats in the documentation: http://pandas.pydata.org/pandas-docs/stable/indexing.html#indexing-view-versus-copy\n",
      "  from ipykernel import kernelapp as app\n",
      "/Users/ruff/anaconda/lib/python3.6/site-packages/ipykernel/__main__.py:3: SettingWithCopyWarning: \n",
      "A value is trying to be set on a copy of a slice from a DataFrame.\n",
      "Try using .loc[row_indexer,col_indexer] = value instead\n",
      "\n",
      "See the caveats in the documentation: http://pandas.pydata.org/pandas-docs/stable/indexing.html#indexing-view-versus-copy\n",
      "  app.launch_new_instance()\n"
     ]
    }
   ],
   "source": [
    "Y_test['DecisionTree prediction'] = DecisionTree_prediction\n",
    "Y_test['Svm prediction'] = Svm_prediction\n",
    "Y_test['Neural Network prediction'] = NeuralNetwork_prediction"
   ]
  },
  {
   "cell_type": "code",
   "execution_count": 32,
   "metadata": {
    "collapsed": false
   },
   "outputs": [
    {
     "data": {
      "text/html": [
       "<div>\n",
       "<table border=\"1\" class=\"dataframe\">\n",
       "  <thead>\n",
       "    <tr style=\"text-align: right;\">\n",
       "      <th></th>\n",
       "      <th>Identity</th>\n",
       "      <th>DecisionTree prediction</th>\n",
       "      <th>Svm prediction</th>\n",
       "      <th>Neural Network prediction</th>\n",
       "    </tr>\n",
       "  </thead>\n",
       "  <tbody>\n",
       "    <tr>\n",
       "      <th>46</th>\n",
       "      <td>1</td>\n",
       "      <td>1</td>\n",
       "      <td>1</td>\n",
       "      <td>1</td>\n",
       "    </tr>\n",
       "  </tbody>\n",
       "</table>\n",
       "</div>"
      ],
      "text/plain": [
       "    Identity  DecisionTree prediction  Svm prediction  \\\n",
       "46         1                        1               1   \n",
       "\n",
       "    Neural Network prediction  \n",
       "46                          1  "
      ]
     },
     "execution_count": 32,
     "metadata": {},
     "output_type": "execute_result"
    }
   ],
   "source": [
    "Y_test.head(1)"
   ]
  },
  {
   "cell_type": "markdown",
   "metadata": {
    "collapsed": true
   },
   "source": [
    "## 2. Are protein X positive RGCs/Amacrines in the retina a homogeneous population?"
   ]
  },
  {
   "cell_type": "code",
   "execution_count": 135,
   "metadata": {
    "collapsed": false
   },
   "outputs": [],
   "source": [
    "from matplotlib import pyplot as plt\n",
    "from scipy.cluster.hierarchy import dendrogram, linkage, cut_tree\n",
    "import numpy as np\n",
    "from sklearn.preprocessing import StandardScaler\n",
    "from sklearn.decomposition import PCA, KernelPCA\n",
    "\n",
    "from sklearn.decomposition import TruncatedSVD"
   ]
  },
  {
   "cell_type": "markdown",
   "metadata": {},
   "source": [
    "#### Split RGCs and Amacrines into separate dataframes"
   ]
  },
  {
   "cell_type": "code",
   "execution_count": 34,
   "metadata": {
    "collapsed": true
   },
   "outputs": [],
   "source": [
    "RGCs = df[df.Identity == 1]\n",
    "Amacrines = df[df.Identity == 0]"
   ]
  },
  {
   "cell_type": "markdown",
   "metadata": {},
   "source": [
    "#### Select the features for PCA and subsequent clustering"
   ]
  },
  {
   "cell_type": "code",
   "execution_count": 35,
   "metadata": {
    "collapsed": false
   },
   "outputs": [
    {
     "data": {
      "text/plain": [
       "Index(['Age', 'Area', ' sholl0', ' sholl10', ' sholl20', ' sholl30',\n",
       "       ' sholl40', ' sholl50', ' sholl60', ' sholl70', ' sholl80', ' sholl90',\n",
       "       ' sholl100', ' sholl110', ' sholl120', ' sholl130', ' sholl140',\n",
       "       ' sholl150', ' sholl160', ' sholl170', ' sholl180', ' sholl190',\n",
       "       ' sholl200', ' sholl210', ' sholl220', ' sholl230', ' sholl240',\n",
       "       ' sholl250', ' sholl260', ' sholl270', 'Layer1', 'Layer2', 'Layer3',\n",
       "       'Layer4', 'Layer5', 'Layer6', 'Layer7', 'Layer8', 'Layer9', 'Layer10',\n",
       "       'TotalNeuriteLength', 'BifurcationPoints', 'Terminations', 'Identity'],\n",
       "      dtype='object')"
      ]
     },
     "execution_count": 35,
     "metadata": {},
     "output_type": "execute_result"
    }
   ],
   "source": [
    "df.columns"
   ]
  },
  {
   "cell_type": "code",
   "execution_count": 192,
   "metadata": {
    "collapsed": true
   },
   "outputs": [],
   "source": [
    "feature_strat = ['Layer1', 'Layer2', 'Layer3', 'Layer4', 'Layer5', 'Layer6', 'Layer7', 'Layer8', 'Layer9', 'Layer10']\n",
    "feature_sholl = [' sholl0', ' sholl10', ' sholl20', ' sholl30',' sholl40', ' sholl50', ' sholl60', ' sholl70', \n",
    "                 ' sholl80', ' sholl90',' sholl100', ' sholl110', ' sholl120', ' sholl130', ' sholl140',' sholl150', \n",
    "                 ' sholl160', ' sholl170', ' sholl180', ' sholl190',' sholl200', ' sholl210', ' sholl220', ' sholl230',\n",
    "                 ' sholl240', ' sholl250', ' sholl260', ' sholl270']\n",
    "feature_all = ['Area', ' sholl0', ' sholl10', ' sholl20', ' sholl30',\n",
    "       ' sholl40', ' sholl50', ' sholl60', ' sholl70', ' sholl80', ' sholl90',\n",
    "       ' sholl100', ' sholl110', ' sholl120', ' sholl130', ' sholl140',\n",
    "       ' sholl150', ' sholl160', ' sholl170', ' sholl180', ' sholl190',\n",
    "       ' sholl200', ' sholl210', ' sholl220', ' sholl230', ' sholl240',\n",
    "       ' sholl250', ' sholl260', ' sholl270', 'Layer1', 'Layer2', 'Layer3',\n",
    "       'Layer4', 'Layer5', 'Layer6', 'Layer7', 'Layer8', 'Layer9', 'Layer10',\n",
    "       'TotalNeuriteLength', 'BifurcationPoints', 'Terminations']\n",
    "\n",
    "df_strat = df[feature_strat]\n",
    "df_sholl = df[feature_sholl]\n",
    "df_all = df[feature_all]"
   ]
  },
  {
   "cell_type": "markdown",
   "metadata": {},
   "source": [
    "#### Scale the features"
   ]
  },
  {
   "cell_type": "code",
   "execution_count": 195,
   "metadata": {
    "collapsed": false
   },
   "outputs": [],
   "source": [
    "df_strat = StandardScaler().fit_transform(df_strat)\n",
    "df_sholl = StandardScaler().fit_transform(df_sholl)\n",
    "df_all = StandardScaler().fit_transform(df_all)"
   ]
  },
  {
   "cell_type": "markdown",
   "metadata": {},
   "source": [
    "#### Principle component analysis"
   ]
  },
  {
   "cell_type": "code",
   "execution_count": 198,
   "metadata": {
    "collapsed": false
   },
   "outputs": [],
   "source": [
    "pca_strat = PCA().fit(df_strat)\n",
    "pca_sholl = PCA().fit(df_sholl)\n",
    "pca_all = PCA().fit(df_all)"
   ]
  },
  {
   "cell_type": "markdown",
   "metadata": {},
   "source": [
    "#### Plot how much each principal component contributes to explain total variance in the data"
   ]
  },
  {
   "cell_type": "code",
   "execution_count": 199,
   "metadata": {
    "collapsed": false
   },
   "outputs": [
    {
     "data": {
      "text/plain": [
       "<matplotlib.text.Text at 0x11a47c668>"
      ]
     },
     "execution_count": 199,
     "metadata": {},
     "output_type": "execute_result"
    },
    {
     "data": {
      "image/png": "[encoded data removed]",
      "text/plain": [
       "<matplotlib.figure.Figure at 0x11a376828>"
      ]
     },
     "metadata": {},
     "output_type": "display_data"
    },
    {
     "data": {
      "image/png": "[encoded data removed]",
      "text/plain": [
       "<matplotlib.figure.Figure at 0x11a58f048>"
      ]
     },
     "metadata": {},
     "output_type": "display_data"
    },
    {
     "data": {
      "image/png": "[encoded data removed]",
      "text/plain": [
       "<matplotlib.figure.Figure at 0x11a5fada0>"
      ]
     },
     "metadata": {},
     "output_type": "display_data"
    }
   ],
   "source": [
    "pca_strat_var = pca_strat.explained_variance_ratio_\n",
    "plt.figure(1)\n",
    "plt.plot((pca_strat_var*100).cumsum(), '--o')\n",
    "plt.title('PCA of IPL stratification patterns')\n",
    "plt.ylim([0,100])\n",
    "plt.ylabel('Cumulative PCA % c')\n",
    "plt.xlabel('Principal component')\n",
    "\n",
    "pca_sholl_var = pca_sholl.explained_variance_ratio_\n",
    "plt.figure(2)\n",
    "plt.plot((pca_sholl_var*100).cumsum(), '--o')\n",
    "plt.title('PCA of morphology features')\n",
    "plt.ylim([0,100])\n",
    "plt.ylabel('Cumulative PCA % c')\n",
    "plt.xlabel('Principal component')\n",
    "\n",
    "pca_all_var = pca_all.explained_variance_ratio_\n",
    "plt.figure(3)\n",
    "plt.plot((pca_all_var*100).cumsum(), '--o')\n",
    "plt.title('PCA of all features')\n",
    "plt.ylim([0,100])\n",
    "plt.ylabel('Cumulative PCA % c')\n",
    "plt.xlabel('Principal component')"
   ]
  },
  {
   "cell_type": "markdown",
   "metadata": {},
   "source": [
    "#### Get the first 2 Principal components to visualize them for each sample in a 2D plot"
   ]
  },
  {
   "cell_type": "code",
   "execution_count": 206,
   "metadata": {
    "collapsed": false
   },
   "outputs": [
    {
     "data": {
      "text/plain": [
       "<matplotlib.text.Text at 0x11a3ccc88>"
      ]
     },
     "execution_count": 206,
     "metadata": {},
     "output_type": "execute_result"
    },
    {
     "data": {
      "image/png": "[encoded data removed]",
      "text/plain": [
       "<matplotlib.figure.Figure at 0x119d87780>"
      ]
     },
     "metadata": {},
     "output_type": "display_data"
    },
    {
     "data": {
      "image/png": "[encoded data removed]",
      "text/plain": [
       "<matplotlib.figure.Figure at 0x1121a0b00>"
      ]
     },
     "metadata": {},
     "output_type": "display_data"
    },
    {
     "data": {
      "image/png": "[encoded data removed]",
      "text/plain": [
       "<matplotlib.figure.Figure at 0x118490e80>"
      ]
     },
     "metadata": {},
     "output_type": "display_data"
    }
   ],
   "source": [
    "pca_strat_plot = PCA(n_components=2).fit_transform(df_strat)\n",
    "plt.figure(1)\n",
    "plt.scatter(pca_strat_plot[:,0],pca_strat_plot[:,1])\n",
    "plt.title('Stratification data')\n",
    "plt.xlabel('PCA2')\n",
    "plt.ylabel('PCA1')\n",
    "\n",
    "pca_sholl_plot = PCA(n_components=2).fit_transform(df_sholl)\n",
    "plt.figure(2)\n",
    "plt.scatter(pca_sholl_plot[:,0],pca_strat_plot[:,1])\n",
    "plt.title('Sholl data')\n",
    "plt.xlabel('PCA2')\n",
    "plt.ylabel('PCA1')\n",
    "\n",
    "pca_all_plot = PCA(n_components=2).fit_transform(df_all)\n",
    "plt.figure(3)\n",
    "plt.scatter(pca_sholl_plot[:,0],pca_sholl_plot[:,1])\n",
    "plt.title('All data')\n",
    "plt.xlabel('PCA2')\n",
    "plt.ylabel('PCA1')"
   ]
  },
  {
   "cell_type": "code",
   "execution_count": 126,
   "metadata": {
    "collapsed": false
   },
   "outputs": [
    {
     "data": {
      "text/plain": [
       "PCA(copy=True, iterated_power='auto', n_components=2, random_state=None,\n",
       "  svd_solver='auto', tol=0.0, whiten=False)"
      ]
     },
     "execution_count": 126,
     "metadata": {},
     "output_type": "execute_result"
    }
   ],
   "source": [
    "pca_strat"
   ]
  },
  {
   "cell_type": "markdown",
   "metadata": {},
   "source": [
    "### k-Means Clustering"
   ]
  },
  {
   "cell_type": "code",
   "execution_count": null,
   "metadata": {
    "collapsed": true
   },
   "outputs": [],
   "source": []
  },
  {
   "cell_type": "markdown",
   "metadata": {},
   "source": [
    "####  Hierarchical clustering algorithm to detect subgroups"
   ]
  },
  {
   "cell_type": "code",
   "execution_count": 213,
   "metadata": {
    "collapsed": false
   },
   "outputs": [],
   "source": [
    "Cluster = linkage(df, 'median')"
   ]
  },
  {
   "cell_type": "code",
   "execution_count": 214,
   "metadata": {
    "collapsed": false,
    "scrolled": false
   },
   "outputs": [
    {
     "data": {
      "text/plain": [
       "(array([   5,   15,   25,   35,   45,   55,   65,   75,   85,   95,  105,\n",
       "         115,  125,  135,  145,  155,  165,  175,  185,  195,  205,  215,\n",
       "         225,  235,  245,  255,  265,  275,  285,  295,  305,  315,  325,\n",
       "         335,  345,  355,  365,  375,  385,  395,  405,  415,  425,  435,\n",
       "         445,  455,  465,  475,  485,  495,  505,  515,  525,  535,  545,\n",
       "         555,  565,  575,  585,  595,  605,  615,  625,  635,  645,  655,\n",
       "         665,  675,  685,  695,  705,  715,  725,  735,  745,  755,  765,\n",
       "         775,  785,  795,  805,  815,  825,  835,  845,  855,  865,  875,\n",
       "         885,  895,  905,  915,  925,  935,  945,  955,  965,  975,  985,\n",
       "         995, 1005, 1015, 1025, 1035, 1045, 1055, 1065, 1075, 1085, 1095,\n",
       "        1105, 1115, 1125, 1135, 1145, 1155]),\n",
       " <a list of 116 Text xticklabel objects>)"
      ]
     },
     "execution_count": 214,
     "metadata": {},
     "output_type": "execute_result"
    },
    {
     "data": {
      "image/png": "[encoded data removed]",
      "text/plain": [
       "<matplotlib.figure.Figure at 0x1162161d0>"
      ]
     },
     "metadata": {},
     "output_type": "display_data"
    }
   ],
   "source": [
    "plt.figure(figsize=(25,20))\n",
    "dn = dendrogram(Cluster)\n",
    "plt.xticks(size=15)"
   ]
  },
  {
   "cell_type": "markdown",
   "metadata": {},
   "source": [
    "#### Select only RGCs"
   ]
  },
  {
   "cell_type": "code",
   "execution_count": 48,
   "metadata": {
    "collapsed": false
   },
   "outputs": [],
   "source": [
    "RGCs = df[df.Identity == 1]"
   ]
  },
  {
   "cell_type": "code",
   "execution_count": 50,
   "metadata": {
    "collapsed": false
   },
   "outputs": [
    {
     "data": {
      "text/plain": [
       "(array([  5,  15,  25,  35,  45,  55,  65,  75,  85,  95, 105, 115, 125,\n",
       "        135, 145, 155, 165, 175, 185, 195, 205, 215, 225, 235, 245, 255,\n",
       "        265, 275, 285, 295, 305, 315, 325, 335, 345, 355, 365, 375, 385,\n",
       "        395, 405, 415, 425, 435, 445, 455, 465, 475, 485, 495, 505, 515,\n",
       "        525, 535, 545, 555, 565, 575, 585, 595, 605, 615, 625, 635, 645,\n",
       "        655, 665, 675, 685, 695, 705, 715, 725, 735, 745, 755, 765, 775,\n",
       "        785, 795, 805, 815, 825, 835, 845, 855, 865, 875, 885]),\n",
       " <a list of 89 Text xticklabel objects>)"
      ]
     },
     "execution_count": 50,
     "metadata": {},
     "output_type": "execute_result"
    },
    {
     "data": {
      "image/png": "[encoded data removed]",
      "text/plain": [
       "<matplotlib.figure.Figure at 0x1189de6d8>"
      ]
     },
     "metadata": {},
     "output_type": "display_data"
    }
   ],
   "source": [
    "Cluster_RGC = linkage(RGCs, 'ward')\n",
    "plt.figure(figsize=(25,20))\n",
    "dn = dendrogram(Cluster_RGC, truncate_mode = 'level', p=20)\n",
    "plt.xticks(size=15)"
   ]
  },
  {
   "cell_type": "code",
   "execution_count": 69,
   "metadata": {
    "collapsed": true
   },
   "outputs": [],
   "source": [
    "Amacrines_select = Amacrines.drop(['Filename1', 'Genotype', 'Sub_Type', 'Age'], axis=1)"
   ]
  },
  {
   "cell_type": "code",
   "execution_count": 83,
   "metadata": {
    "collapsed": false,
    "scrolled": true
   },
   "outputs": [
    {
     "data": {
      "image/png": "[encoded data removed]",
      "text/plain": [
       "<matplotlib.figure.Figure at 0x11ae51a90>"
      ]
     },
     "metadata": {},
     "output_type": "display_data"
    }
   ],
   "source": [
    "Cluster_Amacrine = linkage(Amacrines_select, 'ward')\n",
    "plt.figure(figsize=(25,20))\n",
    "dn = dendrogram(Cluster_Amacrine, truncate_mode = 'level', p=20)"
   ]
  },
  {
   "cell_type": "markdown",
   "metadata": {},
   "source": [
    "#### t-distributed stochastic neighbour embedding plot to visualize high-dimensional data"
   ]
  },
  {
   "cell_type": "code",
   "execution_count": 87,
   "metadata": {
    "collapsed": true
   },
   "outputs": [],
   "source": [
    "from sklearn.manifold import TSNE\n",
    "from sklearn.preprocessing import StandardScaler"
   ]
  },
  {
   "cell_type": "markdown",
   "metadata": {},
   "source": [
    "#### Scale the features using StandardScaler"
   ]
  },
  {
   "cell_type": "code",
   "execution_count": 121,
   "metadata": {
    "collapsed": false
   },
   "outputs": [
    {
     "name": "stdout",
     "output_type": "stream",
     "text": [
      "[t-SNE] Computing pairwise distances...\n",
      "[t-SNE] Computing 134 nearest neighbors...\n",
      "[t-SNE] Computed conditional probabilities for sample 135 / 135\n",
      "[t-SNE] Mean sigma: 1055.393765\n",
      "[t-SNE] KL divergence after 75 iterations with early exaggeration: 1.024008\n",
      "[t-SNE] Error after 100 iterations: 1.024008\n"
     ]
    }
   ],
   "source": [
    "tsne_select_df = TSNE(n_components=2, verbose=1, perplexity=100, n_iter=300000).fit_transform(select_df)\n"
   ]
  },
  {
   "cell_type": "code",
   "execution_count": 122,
   "metadata": {
    "collapsed": false
   },
   "outputs": [
    {
     "data": {
      "text/plain": [
       "array([[ -59.25754384,   15.63363108],\n",
       "       [ -26.86295947,  -22.27291301],\n",
       "       [  48.01756101,  -35.80432535],\n",
       "       [  11.37199663,   -0.69799053],\n",
       "       [  72.6931401 ,    4.76787691],\n",
       "       [ -44.6345754 ,    6.47667711],\n",
       "       [  46.2962055 ,    4.2178351 ],\n",
       "       [  26.54534812,  -23.17958767],\n",
       "       [  61.7254415 ,   -9.11539   ],\n",
       "       [ -79.21215963,  -25.81005245],\n",
       "       [ -12.35642649,  -49.97565106],\n",
       "       [  34.15538964,    6.02036296],\n",
       "       [  -6.93923867,  -63.2526869 ],\n",
       "       [  34.51014862,   26.4794442 ],\n",
       "       [  52.17583711,   40.65209443],\n",
       "       [ -52.65052987,  -35.99564512],\n",
       "       [   3.88615166,  -21.98260075],\n",
       "       [   4.4968125 ,   23.37338881],\n",
       "       [  53.04652297,  -47.97876798],\n",
       "       [  92.44892831,  -13.82436491],\n",
       "       [  -6.39160478,   -7.77001989],\n",
       "       [   4.19587678,   -9.38612064],\n",
       "       [  21.70713049,    6.9811055 ],\n",
       "       [  -7.3471268 ,  -18.41619171],\n",
       "       [ -83.09455098,   -1.21412493],\n",
       "       [ -71.0753499 ,  -14.19246137],\n",
       "       [  17.38563099,   43.55787142],\n",
       "       [  31.10149485,   97.5037066 ],\n",
       "       [ -51.84908466,   41.63996284],\n",
       "       [  36.39771756,  -71.05518193],\n",
       "       [  27.94524188,   16.65160628],\n",
       "       [  64.04562467,  172.79740568],\n",
       "       [ -46.91283283,   -8.0978861 ],\n",
       "       [  11.52905101,   32.20487537],\n",
       "       [  25.00335609,   -2.88960583],\n",
       "       [  54.07529924,   16.60186947],\n",
       "       [  10.71823233,  -42.33171816],\n",
       "       [  41.11645525,  -21.38350862],\n",
       "       [  -8.74028639,   22.06524232],\n",
       "       [  16.6819657 ,  -11.08142729],\n",
       "       [ -55.56085972,  -98.39435286],\n",
       "       [   3.7295033 ,   66.78654212],\n",
       "       [ -41.04332817,   63.21029436],\n",
       "       [  30.61503423,   51.02318846],\n",
       "       [  20.80378216,  -33.48894077],\n",
       "       [ -34.86819724,  -29.834271  ],\n",
       "       [  -9.26346749,   60.62363562],\n",
       "       [  11.89423649,   10.80492859],\n",
       "       [  -2.11255471,  -41.8691779 ],\n",
       "       [  41.38562078,   16.13581417],\n",
       "       [ -13.31482889,    9.29149548],\n",
       "       [  81.46623498,   18.49626834],\n",
       "       [ -16.4270919 ,   31.48453843],\n",
       "       [  75.61041685,  -11.69197269],\n",
       "       [ -46.32939808,  -47.00009683],\n",
       "       [  34.00040537,  -31.81435325],\n",
       "       [ -72.41980443,   13.69815754],\n",
       "       [ -39.00658847,   34.19054272],\n",
       "       [  -5.79426379,   34.36353195],\n",
       "       [  15.03405666,  -21.58520278],\n",
       "       [ -68.85505159,   -0.41026174],\n",
       "       [  65.00418291,   25.53913583],\n",
       "       [   1.07093645,   42.60872053],\n",
       "       [   1.23615769,   12.63227483],\n",
       "       [ -37.5805655 ,  -15.19524777],\n",
       "       [ -35.552406  ,   18.81656816],\n",
       "       [  -3.40579128,    3.02227788],\n",
       "       [ -19.7235148 ,  -14.27613959],\n",
       "       [ -49.94797297,   28.08757154],\n",
       "       [ -78.50514439,   27.36870623],\n",
       "       [  28.99865209,  -13.15047744],\n",
       "       [  76.12176907,  -28.35681872],\n",
       "       [  47.4180519 ,   29.28237638],\n",
       "       [  -7.07308826,  -29.69688643],\n",
       "       [  36.10549261,  -43.65358165],\n",
       "       [ -34.29234759,  -40.99434901],\n",
       "       [  68.14398878,   39.20576935],\n",
       "       [  37.83247518,   -6.70794346],\n",
       "       [  -8.5073869 ,  115.20881609],\n",
       "       [ -56.02454925,    1.73218583],\n",
       "       [ -30.10297393,  -80.45711799],\n",
       "       [ -20.21613539,  -65.80752623],\n",
       "       [ -18.59754631,  -32.17015327],\n",
       "       [ -28.10892997,   27.48966042],\n",
       "       [ -94.57557296,  -46.53716589],\n",
       "       [  15.7547358 ,   75.05923789],\n",
       "       [   8.24668952,  -53.35615082],\n",
       "       [ -62.64408654,  -55.64423533],\n",
       "       [ -19.5654276 ,   17.68439993],\n",
       "       [ -46.83465122,   17.16449994],\n",
       "       [  53.39648257,  -20.6647161 ],\n",
       "       [ -44.33072368,  -63.94766575],\n",
       "       [ -40.34107029,   48.32206782],\n",
       "       [  -0.91456517, -172.39988719],\n",
       "       [  26.97357442,  -82.23935433],\n",
       "       [ -23.04076388,  -44.81209969],\n",
       "       [ -32.4243708 ,  -54.98120209],\n",
       "       [  62.2287474 ,  -30.08437446],\n",
       "       [ -28.52893743,   -6.59796277],\n",
       "       [  36.2033192 ,   39.54543088],\n",
       "       [  58.91400615,    4.73764432],\n",
       "       [ -12.91317056,   79.07616188],\n",
       "       [ -27.08746454,   40.2335836 ],\n",
       "       [ -23.49373343,   66.78576192],\n",
       "       [ -36.44870158,    0.25595875],\n",
       "       [ -60.2878627 ,   54.29920507],\n",
       "       [  17.23979667,   57.79322098],\n",
       "       [ -14.8513068 ,   46.56152897],\n",
       "       [  48.83844507,   -8.80095153],\n",
       "       [   9.59004335,  -88.92938696],\n",
       "       [ -39.47438383,   86.8099741 ],\n",
       "       [ -56.84100434,  -16.09158666],\n",
       "       [ -84.28591973,   40.77131761],\n",
       "       [  61.43363811,   58.13720712],\n",
       "       [   3.46417523,   53.47977944],\n",
       "       [  35.39169212,   65.97382727],\n",
       "       [  45.68230533,   53.15659518],\n",
       "       [ -27.20702125,    8.32073319],\n",
       "       [ -66.28449811,  -34.60908329],\n",
       "       [  23.35797371,  -44.71371246],\n",
       "       [  17.61867429,   21.37915834],\n",
       "       [ -63.40070093,   32.68304699],\n",
       "       [  24.0716534 ,   32.77150624],\n",
       "       [  16.82650714,  -70.89378745],\n",
       "       [  24.59087116,  -57.36759412],\n",
       "       [ -16.41120371,   -2.10370287],\n",
       "       [  -3.07416798,  -78.82052055],\n",
       "       [ -46.98410527,  -25.31485253],\n",
       "       [  52.96994765,  -65.1706306 ],\n",
       "       [  67.18969058,  -51.21895774],\n",
       "       [   7.91875202,  -32.0414862 ],\n",
       "       [   5.4666232 ,  -65.2474988 ],\n",
       "       [  39.69695553,  -56.98310008],\n",
       "       [-102.40236275,   68.86443898],\n",
       "       [ -27.61647163,   53.36907567]])"
      ]
     },
     "execution_count": 122,
     "metadata": {},
     "output_type": "execute_result"
    }
   ],
   "source": [
    "tsne_select_df"
   ]
  },
  {
   "cell_type": "code",
   "execution_count": 123,
   "metadata": {
    "collapsed": false
   },
   "outputs": [
    {
     "data": {
      "text/plain": [
       "(135, 2)"
      ]
     },
     "execution_count": 123,
     "metadata": {},
     "output_type": "execute_result"
    }
   ],
   "source": [
    "tsne_select_df.shape"
   ]
  },
  {
   "cell_type": "code",
   "execution_count": 124,
   "metadata": {
    "collapsed": false
   },
   "outputs": [
    {
     "data": {
      "text/plain": [
       "<matplotlib.collections.PathCollection at 0x1233af978>"
      ]
     },
     "execution_count": 124,
     "metadata": {},
     "output_type": "execute_result"
    },
    {
     "data": {
      "image/png": "[encoded data removed]",
      "text/plain": [
       "<matplotlib.figure.Figure at 0x1232ccfd0>"
      ]
     },
     "metadata": {},
     "output_type": "display_data"
    }
   ],
   "source": [
    "plt.figure()\n",
    "plt.scatter(tsne_select_df[:,0],tsne_select_df[:,1])"
   ]
  },
  {
   "cell_type": "code",
   "execution_count": null,
   "metadata": {
    "collapsed": true
   },
   "outputs": [],
   "source": [
    "# Use PCA to find most important components\n",
    "# Use clustering algorithm to cluster cells based on most important values"
   ]
  }
 ],
 "metadata": {
  "kernelspec": {
   "display_name": "Python 3",
   "language": "python",
   "name": "python3"
  },
  "language_info": {
   "codemirror_mode": {
    "name": "ipython",
    "version": 3
   },
   "file_extension": ".py",
   "mimetype": "text/x-python",
   "name": "python",
   "nbconvert_exporter": "python",
   "pygments_lexer": "ipython3",
   "version": "3.6.0"
  }
 },
 "nbformat": 4,
 "nbformat_minor": 2
}
